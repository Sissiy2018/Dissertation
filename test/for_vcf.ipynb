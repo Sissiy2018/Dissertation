{
 "cells": [
  {
   "cell_type": "code",
   "execution_count": 3,
   "metadata": {},
   "outputs": [],
   "source": [
    "import msprime\n",
    "import numpy as np\n",
    "import pandas as pd\n",
    "import argparse\n",
    "import gzip\n",
    "import csv\n",
    "\n",
    "def create_rate_map(map_file):\n",
    "    # Initialize lists to store positions and rates\n",
    "    positions = [0]\n",
    "    gmaps = [0]\n",
    "\n",
    "    # Read positions from map.txt file\n",
    "    with open(map_file, 'r') as f:\n",
    "        for line in f:\n",
    "            if line.strip():  # Check if line is not empty\n",
    "                parts = line.split()\n",
    "                position = float(parts[3])  # Extract position (assuming it's the third column)\n",
    "                positions.append(position)\n",
    "                gmap = float(parts[2])\n",
    "                gmaps.append(gmap)\n",
    "\n",
    "    # Calculate combination rates and record them\n",
    "    combined_rates = []\n",
    "    for i in range(1, len(positions)):\n",
    "        pos1 = positions[i - 1]\n",
    "        pos2 = positions[i]\n",
    "        gmap1 = gmaps[i - 1]\n",
    "        gmap2 = gmaps[i]\n",
    "        combination_rate = ((gmap2 - gmap1) / (pos2 - pos1)) * 1e-6\n",
    "        combined_rates.append(combination_rate)\n",
    "    \n",
    "    rate_map = msprime.RateMap(\n",
    "        position=positions,\n",
    "        rate=combined_rates\n",
    "    )\n",
    "\n",
    "    with open(\"recombination_rates_chr1.csv\", \"w\", newline='') as csvfile:\n",
    "        writer = csv.writer(csvfile)\n",
    "    \n",
    "        # Write header\n",
    "        writer.writerow([\"Position\", \"Rate\"])\n",
    "    \n",
    "        # Write data rows\n",
    "        for i in range(len(positions)-1):\n",
    "            writer.writerow([positions[i], combined_rates[i]])\n",
    "    \n",
    "    return rate_map\n",
    "\n",
    "\n",
    "def export_vcf(mts, name):\n",
    "    # Output VCF (Variant Call Format) file\n",
    "    vcf_file = name + \".vcf\"\n",
    "    with open(vcf_file, \"w\") as vcf_out:\n",
    "        mts.write_vcf(vcf_out)\n",
    "\n",
    "\n",
    "def sim_one_const(pop_size, sample_size, rate_map, mu_rate):\n",
    "    # Create a demographic model for a constant-size population\n",
    "    demographic_model = msprime.Demography()\n",
    "    demographic_model.add_population(initial_size=pop_size)\n",
    "    \n",
    "    # Simulate the tree sequence\n",
    "    ts = msprime.sim_ancestry(samples=sample_size, demography=demographic_model, recombination_rate=rate_map,\n",
    "                              ploidy=2)\n",
    "    \n",
    "    # Simulate mutations\n",
    "    mts = msprime.sim_mutations(ts, rate= mu_rate)\n",
    "    \n",
    "    return mts\n"
   ]
  },
  {
   "cell_type": "code",
   "execution_count": 4,
   "metadata": {},
   "outputs": [
    {
     "name": "stderr",
     "output_type": "stream",
     "text": [
      "The provenance information for the resulting tree sequence is 8.64MB. This is nothing to worry about as provenance is a good thing to have, but if you want to save this memory/storage space you can disable provenance recording by setting record_provenance=False\n"
     ]
    }
   ],
   "source": [
    "# Example usage in an IPython notebook\n",
    "if __name__ == '__main__':\n",
    "    pop_size = 20000\n",
    "    sample_size = 1000\n",
    "    mu_rate = 1e-8  # Mutation rate per base pair per generation\n",
    "    map_file = 'plink.chr1.GRCh38.map'\n",
    "    output_prefix = 'simulation_output'\n",
    "\n",
    "    # Create rate map from genetic map file\n",
    "    rate_map = create_rate_map(map_file)\n",
    "    \n",
    "    # Run the simulation\n",
    "    mts = sim_one_const(pop_size, sample_size, rate_map, mu_rate)\n",
    "    \n",
    "    # Export VCF\n",
    "    export_vcf(mts, output_prefix)"
   ]
  }
 ],
 "metadata": {
  "kernelspec": {
   "display_name": "base",
   "language": "python",
   "name": "python3"
  },
  "language_info": {
   "codemirror_mode": {
    "name": "ipython",
    "version": 3
   },
   "file_extension": ".py",
   "mimetype": "text/x-python",
   "name": "python",
   "nbconvert_exporter": "python",
   "pygments_lexer": "ipython3",
   "version": "3.11.7"
  }
 },
 "nbformat": 4,
 "nbformat_minor": 2
}
